{
 "cells": [
  {
   "cell_type": "markdown",
   "metadata": {
    "application/vnd.databricks.v1+cell": {
     "cellMetadata": {
      "byteLimit": 2048000,
      "rowLimit": 10000
     },
     "inputWidgets": {},
     "nuid": "80a1aa33-0d0b-41c3-af59-4736b161f700",
     "showTitle": false,
     "title": ""
    }
   },
   "source": [
    "# Create silver table - quote"
   ]
  },
  {
   "cell_type": "code",
   "execution_count": 0,
   "metadata": {
    "application/vnd.databricks.v1+cell": {
     "cellMetadata": {
      "byteLimit": 2048000,
      "rowLimit": 10000
     },
     "inputWidgets": {},
     "nuid": "e9c656d9-2b16-43c3-87dc-f34a656053bf",
     "showTitle": false,
     "title": ""
    }
   },
   "outputs": [],
   "source": [
    "%run \"../../setup/functions\""
   ]
  },
  {
   "cell_type": "markdown",
   "metadata": {
    "application/vnd.databricks.v1+cell": {
     "cellMetadata": {
      "byteLimit": 2048000,
      "rowLimit": 10000
     },
     "inputWidgets": {},
     "nuid": "e34c45db-ae4d-4771-b342-d71a7760b0ae",
     "showTitle": false,
     "title": ""
    }
   },
   "source": [
    "## Step 1 -Read Quote from Bronze using spark dataframe reader"
   ]
  },
  {
   "cell_type": "code",
   "execution_count": 0,
   "metadata": {
    "application/vnd.databricks.v1+cell": {
     "cellMetadata": {
      "byteLimit": 2048000,
      "rowLimit": 10000
     },
     "inputWidgets": {},
     "nuid": "12a8d0ea-cd5b-4f74-8284-6ac01e005059",
     "showTitle": false,
     "title": ""
    }
   },
   "outputs": [],
   "source": [
    "from pyspark.sql.types import StructType, StructField, IntegerType, StringType, DoubleType, BooleanType, DateType"
   ]
  },
  {
   "cell_type": "code",
   "execution_count": 0,
   "metadata": {
    "application/vnd.databricks.v1+cell": {
     "cellMetadata": {
      "byteLimit": 2048000,
      "rowLimit": 10000
     },
     "inputWidgets": {},
     "nuid": "5aab8db7-714f-4d0f-9b28-69a8719ab2ba",
     "showTitle": false,
     "title": ""
    }
   },
   "outputs": [],
   "source": [
    "df = spark.read.table(\"<your-catalog>.bronze.quote_1\")"
   ]
  },
  {
   "cell_type": "code",
   "execution_count": 0,
   "metadata": {
    "application/vnd.databricks.v1+cell": {
     "cellMetadata": {
      "byteLimit": 2048000,
      "rowLimit": 10000
     },
     "inputWidgets": {},
     "nuid": "8722ee13-03cf-4f37-9664-5550e645dc33",
     "showTitle": false,
     "title": ""
    }
   },
   "outputs": [],
   "source": [
    "display(df.limit(100))"
   ]
  },
  {
   "cell_type": "markdown",
   "metadata": {
    "application/vnd.databricks.v1+cell": {
     "cellMetadata": {
      "byteLimit": 2048000,
      "rowLimit": 10000
     },
     "inputWidgets": {},
     "nuid": "82962313-daab-43e5-94d0-73e96961eb85",
     "showTitle": false,
     "title": ""
    }
   },
   "source": [
    "## Clean data"
   ]
  },
  {
   "cell_type": "code",
   "execution_count": 0,
   "metadata": {
    "application/vnd.databricks.v1+cell": {
     "cellMetadata": {
      "byteLimit": 2048000,
      "rowLimit": 10000
     },
     "inputWidgets": {},
     "nuid": "e7296cca-bfcf-4fc9-92ab-469af0f734ed",
     "showTitle": false,
     "title": ""
    }
   },
   "outputs": [],
   "source": [
    "# Remove duplicate and nulls in the primary column: Id\n",
    "semi_clean_df = remove_duplicates_and_nulls(df, \"Id\")"
   ]
  },
  {
   "cell_type": "code",
   "execution_count": 0,
   "metadata": {
    "application/vnd.databricks.v1+cell": {
     "cellMetadata": {
      "byteLimit": 2048000,
      "rowLimit": 10000
     },
     "inputWidgets": {},
     "nuid": "13b928c7-9234-48b2-8720-6686d2455126",
     "showTitle": false,
     "title": ""
    }
   },
   "outputs": [],
   "source": [
    "from pyspark.sql.functions import col\n",
    "\n",
    "# Cast createdDate into DateType\n",
    "clean_df = semi_clean_df.withColumn(\"CreatedDate\", col(\"CreatedDate\").cast(DateType()))"
   ]
  },
  {
   "cell_type": "code",
   "execution_count": 0,
   "metadata": {
    "application/vnd.databricks.v1+cell": {
     "cellMetadata": {
      "byteLimit": 2048000,
      "rowLimit": 10000
     },
     "inputWidgets": {},
     "nuid": "10075399-e91f-4fab-b564-8b5e774b6788",
     "showTitle": false,
     "title": ""
    }
   },
   "outputs": [],
   "source": [
    "# Select and rename columns\n",
    "quote_df = clean_df.select(\n",
    "    col(\"Id\").alias(\"id\"),\n",
    "    col(\"Name\").alias(\"name\"),\n",
    "    col(\"CreatedDate\").alias(\"created_date\"),\n",
    "    col(\"SBQQ__Account__c\").alias(\"account_id\"),\n",
    "    col(\"SBQQ__ContractingMethod__c\").alias(\"contracting_method\"),\n",
    "    col(\"SBQQ__CustomerDiscount__c\").alias(\"customer_discount\"),\n",
    "    col(\"SBQQ__DaysQuoteOpen__c\").alias(\"days_quote_open\"),\n",
    "    col(\"SBQQ__EndDate__c\").alias(\"end_date\"),\n",
    "    col(\"SBQQ__ExpirationDate__c\").alias(\"expiration_date\"),\n",
    "    col(\"SBQQ__Opportunity2__c\").alias(\"opportunity_id\"),\n",
    "    col(\"SBQQ__PaymentTerms__c\").alias(\"payment_terms\"),\n",
    "    col(\"SBQQ__ShippingCity__c\").alias(\"shipping_city\"),\n",
    "    col(\"SBQQ__ShippingCountry__c\").alias(\"shipping_country\"),\n",
    "    col(\"SBQQ__ShippingPostalCode__c\").alias(\"shipping_postal_code\"),\n",
    "    col(\"SBQQ__ShippingState__c\").alias(\"shipping_state\"),\n",
    "    col(\"SBQQ__StartDate__c\").alias(\"start_date\"),\n",
    "    col(\"SBQQ__Status__c\").alias(\"status\"),\n",
    "    col(\"SBQQ__SubscriptionTerm__c\").alias(\"subscription_term\"),\n",
    "    col(\"SBQQ__CustomerAmount__c\").alias(\"customer_amount\"),\n",
    "    col(\"SBQQ__LineItemCount__c\").alias(\"line_item_count\"),\n",
    "    col(\"SBQQ__ListAmount__c\").alias(\"list_amount\"),\n",
    "    col(\"SBQQ__NetAmount__c\").alias(\"net_amount\"),\n",
    "    col(\"SBQQ__RegularAmount__c\").alias(\"regular_amount\"),\n",
    "    col(\"ApprovalStatus__c\").alias(\"approval_status\"),\n",
    "    col(\"CPQ_Additional_Discount__c\").alias(\"additional_discount\"),\n",
    "    col(\"CPQ_Annual_Recurring_Revenue__c\").alias(\"annual_recurring_revenue\"),\n",
    "    col(\"CPQ_Conga_Currency_Locale__c\").alias(\"conga_currency_locale\"),\n",
    "    col(\"CPQ_Currency_Conversion_Rate__c\").alias(\"currency_conversion_rate\"),\n",
    "    col(\"CPQ_First_Year_Value__c\").alias(\"first_year_value\"),\n",
    "    col(\"CPQ_MOSAIQ_Package_Name_for_Output__c\").alias(\"mosaiq_package_name_for_output\"),\n",
    "    col(\"SBQQ__Primary__c\").alias(\"is_primary\")\n",
    ")"
   ]
  },
  {
   "cell_type": "code",
   "execution_count": 0,
   "metadata": {
    "application/vnd.databricks.v1+cell": {
     "cellMetadata": {
      "byteLimit": 2048000,
      "rowLimit": 10000
     },
     "inputWidgets": {},
     "nuid": "35e56f83-2e4a-4a55-a8aa-6acd1bbd8424",
     "showTitle": false,
     "title": ""
    }
   },
   "outputs": [],
   "source": [
    "# Add ingestion column\n",
    "final_df = add_ingestion_date(quote_df)"
   ]
  },
  {
   "cell_type": "code",
   "execution_count": 0,
   "metadata": {
    "application/vnd.databricks.v1+cell": {
     "cellMetadata": {
      "byteLimit": 2048000,
      "rowLimit": 10000
     },
     "inputWidgets": {},
     "nuid": "2b5cb34c-face-4ceb-9f7b-b19342d97f81",
     "showTitle": false,
     "title": ""
    }
   },
   "outputs": [],
   "source": [
    "display(final_df.limit(100))"
   ]
  },
  {
   "cell_type": "code",
   "execution_count": 0,
   "metadata": {
    "application/vnd.databricks.v1+cell": {
     "cellMetadata": {
      "byteLimit": 2048000,
      "implicitDf": true,
      "rowLimit": 10000
     },
     "inputWidgets": {},
     "nuid": "5401dd37-981e-4bd7-b2cb-be7bf8acb811",
     "showTitle": false,
     "title": ""
    }
   },
   "outputs": [],
   "source": [
    "%sql\n",
    "USE CATALOG <your-catalog>"
   ]
  },
  {
   "cell_type": "code",
   "execution_count": 0,
   "metadata": {
    "application/vnd.databricks.v1+cell": {
     "cellMetadata": {
      "byteLimit": 2048000,
      "rowLimit": 10000
     },
     "inputWidgets": {},
     "nuid": "72628c14-2e41-4f91-ae40-779df0d8f59d",
     "showTitle": false,
     "title": ""
    }
   },
   "outputs": [],
   "source": [
    "final_df.write.mode(\"overwrite\").saveAsTable(\"silver.quote\")"
   ]
  },
  {
   "cell_type": "code",
   "execution_count": 0,
   "metadata": {
    "application/vnd.databricks.v1+cell": {
     "cellMetadata": {
      "byteLimit": 2048000,
      "rowLimit": 10000
     },
     "inputWidgets": {},
     "nuid": "6a241671-450e-4478-ba89-450e234600a8",
     "showTitle": false,
     "title": ""
    }
   },
   "outputs": [],
   "source": [
    "dbutils.notebook.exit(\"Success\")"
   ]
  }
 ],
 "metadata": {
  "application/vnd.databricks.v1+notebook": {
   "dashboards": [],
   "environmentMetadata": {
    "base_environment": "",
    "client": "1"
   },
   "language": "python",
   "notebookMetadata": {
    "mostRecentlyExecutedCommandWithImplicitDF": {
     "commandId": 3413403706132340,
     "dataframes": [
      "_sqldf"
     ]
    },
    "pythonIndentUnit": 4
   },
   "notebookName": "3.create_silver_table_quote",
   "widgets": {}
  }
 },
 "nbformat": 4,
 "nbformat_minor": 0
}
